{
  "nbformat": 4,
  "nbformat_minor": 0,
  "metadata": {
    "colab": {
      "provenance": [],
      "mount_file_id": "https://github.com/puzzy8338/chatgpt-proxy/blob/main/00981A_.ipynb",
      "authorship_tag": "ABX9TyPQINc8WcuYmTRJcA31sn+9",
      "include_colab_link": true
    },
    "kernelspec": {
      "name": "python3",
      "display_name": "Python 3"
    },
    "language_info": {
      "name": "python"
    }
  },
  "cells": [
    {
      "cell_type": "markdown",
      "metadata": {
        "id": "view-in-github",
        "colab_type": "text"
      },
      "source": [
        "<a href=\"https://colab.research.google.com/github/puzzy8338/chatgpt-proxy/blob/main/00981A_.ipynb\" target=\"_parent\"><img src=\"https://colab.research.google.com/assets/colab-badge.svg\" alt=\"Open In Colab\"/></a>"
      ]
    },
    {
      "cell_type": "code",
      "execution_count": 1,
      "metadata": {
        "colab": {
          "base_uri": "https://localhost:8080/",
          "height": 260
        },
        "id": "LJEWNIpkjY8O",
        "outputId": "38b26458-a0de-43c1-aa04-a8cf10ad69cd"
      },
      "outputs": [
        {
          "output_type": "stream",
          "name": "stdout",
          "text": [
            "請輸入『今日』的日期（格式：YYYYMMDD）：20251021\n",
            "請輸入『比較日』的日期（格式：YYYYMMDD）：20251020\n",
            "📂 今日檔案：/content/drive/MyDrive/股票/981a/ETF_Investment_Portfolio_20251021.xlsx\n",
            "📂 比較日檔案：/content/drive/MyDrive/股票/981a/ETF_Investment_Portfolio_20251020.xlsx\n"
          ]
        },
        {
          "output_type": "stream",
          "name": "stderr",
          "text": [
            "/usr/local/lib/python3.12/dist-packages/openpyxl/styles/stylesheet.py:237: UserWarning: Workbook contains no default style, apply openpyxl's default\n",
            "  warn(\"Workbook contains no default style, apply openpyxl's default\")\n",
            "/usr/local/lib/python3.12/dist-packages/openpyxl/styles/stylesheet.py:237: UserWarning: Workbook contains no default style, apply openpyxl's default\n",
            "  warn(\"Workbook contains no default style, apply openpyxl's default\")\n",
            "/usr/local/lib/python3.12/dist-packages/openpyxl/styles/stylesheet.py:237: UserWarning: Workbook contains no default style, apply openpyxl's default\n",
            "  warn(\"Workbook contains no default style, apply openpyxl's default\")\n",
            "/usr/local/lib/python3.12/dist-packages/openpyxl/styles/stylesheet.py:237: UserWarning: Workbook contains no default style, apply openpyxl's default\n",
            "  warn(\"Workbook contains no default style, apply openpyxl's default\")\n"
          ]
        },
        {
          "output_type": "stream",
          "name": "stdout",
          "text": [
            "✅ 報告已產生： stock_changes_20251020_to_20251021.xlsx\n",
            "⬇️ 請點擊下方下載：\n"
          ]
        },
        {
          "output_type": "display_data",
          "data": {
            "text/plain": [
              "<IPython.core.display.Javascript object>"
            ],
            "application/javascript": [
              "\n",
              "    async function download(id, filename, size) {\n",
              "      if (!google.colab.kernel.accessAllowed) {\n",
              "        return;\n",
              "      }\n",
              "      const div = document.createElement('div');\n",
              "      const label = document.createElement('label');\n",
              "      label.textContent = `Downloading \"${filename}\": `;\n",
              "      div.appendChild(label);\n",
              "      const progress = document.createElement('progress');\n",
              "      progress.max = size;\n",
              "      div.appendChild(progress);\n",
              "      document.body.appendChild(div);\n",
              "\n",
              "      const buffers = [];\n",
              "      let downloaded = 0;\n",
              "\n",
              "      const channel = await google.colab.kernel.comms.open(id);\n",
              "      // Send a message to notify the kernel that we're ready.\n",
              "      channel.send({})\n",
              "\n",
              "      for await (const message of channel.messages) {\n",
              "        // Send a message to notify the kernel that we're ready.\n",
              "        channel.send({})\n",
              "        if (message.buffers) {\n",
              "          for (const buffer of message.buffers) {\n",
              "            buffers.push(buffer);\n",
              "            downloaded += buffer.byteLength;\n",
              "            progress.value = downloaded;\n",
              "          }\n",
              "        }\n",
              "      }\n",
              "      const blob = new Blob(buffers, {type: 'application/binary'});\n",
              "      const a = document.createElement('a');\n",
              "      a.href = window.URL.createObjectURL(blob);\n",
              "      a.download = filename;\n",
              "      div.appendChild(a);\n",
              "      a.click();\n",
              "      div.remove();\n",
              "    }\n",
              "  "
            ]
          },
          "metadata": {}
        },
        {
          "output_type": "display_data",
          "data": {
            "text/plain": [
              "<IPython.core.display.Javascript object>"
            ],
            "application/javascript": [
              "download(\"download_24c3b7d5-76d7-4986-a221-ae5f68635307\", \"stock_changes_20251020_to_20251021.xlsx\", 6694)"
            ]
          },
          "metadata": {}
        }
      ],
      "source": [
        "import os\n",
        "import pandas as pd\n",
        "\n",
        "# ✅ 優先搜尋的目錄（Google Drive）\n",
        "PREFERRED_DIR = \"/content/drive/MyDrive/股票/981a\"\n",
        "\n",
        "# ✅ 嘗試在 Colab 自動掛載 Google Drive（若路徑不可用）\n",
        "def ensure_gdrive_mounted(preferred_dir=PREFERRED_DIR):\n",
        "    try:\n",
        "        # 僅在路徑不存在時嘗試掛載\n",
        "        if not os.path.exists(preferred_dir):\n",
        "            # 僅在 colab 執行時才有 google.colab\n",
        "            from google.colab import drive  # type: ignore\n",
        "            print(\"🔌 嘗試掛載 Google Drive ...\")\n",
        "            drive.mount(\"/content/drive\")\n",
        "    except Exception as e:\n",
        "        # 非 Colab 或掛載失敗就略過，之後會走其他搜尋路徑\n",
        "        print(f\"⚠️ 無法自動掛載 Google Drive（可能非 Colab 環境）：{e}\")\n",
        "\n",
        "# ✅ 依照優先順序解析檔案完整路徑\n",
        "def resolve_file(date_str):\n",
        "    fname = f\"ETF_Investment_Portfolio_{date_str}.xlsx\"\n",
        "    # 1) 優先找 Google Drive 目錄\n",
        "    preferred_path = os.path.join(PREFERRED_DIR, fname)\n",
        "    if os.path.exists(preferred_path):\n",
        "        return preferred_path\n",
        "\n",
        "    # 2) 次之找目前工作目錄\n",
        "    cwd_path = os.path.join(os.getcwd(), fname)\n",
        "    if os.path.exists(cwd_path):\n",
        "        return cwd_path\n",
        "\n",
        "    # 3) 都找不到就要求上傳\n",
        "    try:\n",
        "        from google.colab import files  # type: ignore\n",
        "        print(f\"🔍 找不到檔案：{preferred_path} 或 {cwd_path}\")\n",
        "        print(f\"⬆️ 請上傳檔案：{fname}\")\n",
        "        uploaded = files.upload()\n",
        "        if fname not in uploaded:\n",
        "            raise FileNotFoundError(f\"❌ 未上傳必要檔案：{fname}\")\n",
        "        # 上傳後檔案會存到目前工作目錄\n",
        "        return os.path.join(os.getcwd(), fname)\n",
        "    except Exception as e:\n",
        "        # 非 Colab 或者使用者沒有上傳\n",
        "        raise FileNotFoundError(\n",
        "            f\"❌ 無法取得檔案：{fname}\\n\"\n",
        "            f\"請將檔案放在 {PREFERRED_DIR} 或目前目錄，或在 Colab 直接上傳。\\n原始錯誤：{e}\"\n",
        "        )\n",
        "\n",
        "# ✅ 自動偵測表頭列\n",
        "def find_stock_header_index(df_raw):\n",
        "    # 需要同時包含以下關鍵欄位（可分散在同一列不同儲存格）\n",
        "    keywords = ['股票', '股票代號', '股票名稱', '股數']\n",
        "    for idx, row in df_raw.iterrows():\n",
        "        cells = row.astype(str).tolist()\n",
        "        if all(any(k in c for c in cells) for k in keywords):\n",
        "            return idx\n",
        "    return None\n",
        "\n",
        "def main():\n",
        "    # 先嘗試掛載 Google Drive（在 Colab 時）\n",
        "    ensure_gdrive_mounted()\n",
        "\n",
        "    # ✅ 使用者輸入兩個日期（格式：YYYYMMDD）\n",
        "    date_today = input(\"請輸入『今日』的日期（格式：YYYYMMDD）：\").strip()\n",
        "    date_old = input(\"請輸入『比較日』的日期（格式：YYYYMMDD）：\").strip()\n",
        "\n",
        "    # ✅ 解析檔案完整路徑（優先 Google Drive）\n",
        "    file_today = resolve_file(date_today)\n",
        "    file_old = resolve_file(date_old)\n",
        "\n",
        "    print(f\"📂 今日檔案：{file_today}\")\n",
        "    print(f\"📂 比較日檔案：{file_old}\")\n",
        "\n",
        "    # ✅ 載入原始檔案（不設欄位）\n",
        "    df_today_raw = pd.read_excel(file_today, header=None)\n",
        "    df_old_raw = pd.read_excel(file_old, header=None)\n",
        "\n",
        "    header_idx_today = find_stock_header_index(df_today_raw)\n",
        "    header_idx_old = find_stock_header_index(df_old_raw)\n",
        "\n",
        "    if header_idx_today is None or header_idx_old is None:\n",
        "        raise Exception(\"❌ 找不到包含「股票代號」「股票名稱」「股數」等欄位的表格，請檢查 Excel 格式\")\n",
        "\n",
        "    # ✅ 重新讀取並處理必要欄位\n",
        "    df_today = pd.read_excel(file_today, header=header_idx_today)\n",
        "    df_old = pd.read_excel(file_old, header=header_idx_old)\n",
        "    required_cols = ['股票代號', '股票名稱', '股數']\n",
        "\n",
        "    if not all(col in df_today.columns for col in required_cols) or not all(col in df_old.columns for col in required_cols):\n",
        "        raise Exception(\"❌ 缺少必要欄位：股票代號、股票名稱、股數\")\n",
        "\n",
        "    # ✅ 清理空格、欄位重新命名\n",
        "    for df in [df_today, df_old]:\n",
        "        df['股票代號'] = df['股票代號'].astype(str).str.strip()\n",
        "        df['股票名稱'] = df['股票名稱'].astype(str).str.strip()\n",
        "\n",
        "    df_today = df_today[required_cols].copy()\n",
        "    df_today.rename(columns={'股數': '股數_new', '股票名稱': '股票名稱_new'}, inplace=True)\n",
        "\n",
        "    df_old = df_old[required_cols].copy()\n",
        "    df_old.rename(columns={'股數': '股數_old', '股票名稱': '股票名稱_old'}, inplace=True)\n",
        "\n",
        "    # ✅ 合併、轉換股數、計算變化\n",
        "    merged = pd.merge(df_old, df_today, on='股票代號', how='outer')\n",
        "    merged['股票名稱'] = merged['股票名稱_new'].combine_first(merged['股票名稱_old'])\n",
        "\n",
        "    merged['股數_old'] = pd.to_numeric(\n",
        "        merged['股數_old'].astype(str).str.replace(',', ''),\n",
        "        errors='coerce'\n",
        "    ).fillna(0)\n",
        "    merged['股數_new'] = pd.to_numeric(\n",
        "        merged['股數_new'].astype(str).str.replace(',', ''),\n",
        "        errors='coerce'\n",
        "    ).fillna(0)\n",
        "    merged['股數變化'] = merged['股數_new'] - merged['股數_old']\n",
        "\n",
        "    # ✅ 輸出結果\n",
        "    result = merged[['股票代號', '股票名稱', '股數_old', '股數_new', '股數變化']].copy()\n",
        "    result.columns = ['股票代號', '股票名稱', '前股數', '今股數', '股數變化']\n",
        "\n",
        "    output_file = f\"stock_changes_{date_old}_to_{date_today}.xlsx\"\n",
        "    result.to_excel(output_file, index=False)\n",
        "\n",
        "    print(\"✅ 報告已產生：\", output_file)\n",
        "\n",
        "    # 若在 Colab，提供下載\n",
        "    try:\n",
        "        from google.colab import files  # type: ignore\n",
        "        print(\"⬇️ 請點擊下方下載：\")\n",
        "        files.download(output_file)\n",
        "    except Exception:\n",
        "        # 非 Colab 就不做下載\n",
        "        pass\n",
        "\n",
        "if __name__ == \"__main__\":\n",
        "    main()\n"
      ]
    },
    {
      "cell_type": "code",
      "source": [
        "from google.colab import drive\n",
        "drive.mount('/content/drive')"
      ],
      "metadata": {
        "id": "SedLMppO1MK9"
      },
      "execution_count": null,
      "outputs": []
    },
    {
      "cell_type": "code",
      "source": [],
      "metadata": {
        "id": "ZTMz9LiHjdTi"
      },
      "execution_count": null,
      "outputs": []
    }
  ]
}